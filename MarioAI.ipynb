{
 "cells": [
  {
   "cell_type": "markdown",
   "id": "5a6839a9",
   "metadata": {},
   "source": [
    "# 1. Setup Mario"
   ]
  },
  {
   "cell_type": "code",
   "execution_count": null,
   "id": "bb6c98ef",
   "metadata": {
    "scrolled": true
   },
   "outputs": [],
   "source": [
    "!pip install gym_super_mario_bros==7.3.0 nes_py==8.2.1"
   ]
  },
  {
   "cell_type": "code",
   "execution_count": null,
   "id": "6b61af67",
   "metadata": {},
   "outputs": [],
   "source": [
    "# Game\n",
    "import gym_super_mario_bros\n",
    "# Joypad\n",
    "from nes_py.wrappers import JoypadSpace\n",
    "# Controls\n",
    "from gym_super_mario_bros.actions import SIMPLE_MOVEMENT"
   ]
  },
  {
   "cell_type": "code",
   "execution_count": null,
   "id": "ff0bf1df",
   "metadata": {},
   "outputs": [],
   "source": [
    "SIMPLE_MOVEMENT"
   ]
  },
  {
   "cell_type": "code",
   "execution_count": null,
   "id": "6898cfd4",
   "metadata": {},
   "outputs": [],
   "source": [
    "# Setup game\n",
    "env = gym_super_mario_bros.make('SuperMarioBros-v0')\n",
    "# Simplify movement variations (action_space)\n",
    "env = JoypadSpace(env, SIMPLE_MOVEMENT)"
   ]
  },
  {
   "cell_type": "code",
   "execution_count": null,
   "id": "ae91cee7",
   "metadata": {},
   "outputs": [],
   "source": [
    "# Flag\n",
    "done = True\n",
    "\n",
    "# Loop through each frame\n",
    "for step in range(100):\n",
    "    if done:\n",
    "        # Start the game\n",
    "        env.reset()\n",
    "    # Do random actions\n",
    "    state, reward, done, info = env.step(env.action_space.sample())\n",
    "    # Show the game on the screen\n",
    "    env.render()\n",
    "env.close()"
   ]
  },
  {
   "cell_type": "markdown",
   "id": "c596198f",
   "metadata": {},
   "source": [
    "# 2. Preprocess Environment"
   ]
  },
  {
   "cell_type": "code",
   "execution_count": null,
   "id": "39b15e91",
   "metadata": {},
   "outputs": [],
   "source": [
    "!pip install torch==2.0.1 torchvision==0.15.2 torchaudio==2.0.2 -f https://download.pytorch.org/whl/torch_stable.html\n",
    "# PPO for RL\n",
    "!pip install stable-baselines3[extra]==1.8.0"
   ]
  },
  {
   "cell_type": "code",
   "execution_count": null,
   "id": "0ac05264",
   "metadata": {},
   "outputs": [],
   "source": [
    "# Frame Stacker Wrapper and Grayscaling Wrapper\n",
    "# Framestack: Capture last couple of frames while Mario is playing\n",
    "# GrayscaleObservation: Shave our data since it does not deal with no coloring, making our model faster\n",
    "from gym.wrappers import GrayScaleObservation\n",
    "# Vectorization Wrappers\n",
    "from stable_baselines3.common.vec_env import VecFrameStack, DummyVecEnv\n",
    "# Plot the impact of framestacking\n",
    "from matplotlib import pyplot as plt"
   ]
  },
  {
   "cell_type": "code",
   "execution_count": null,
   "id": "32925ce2",
   "metadata": {},
   "outputs": [],
   "source": [
    "# Create the base env \n",
    "env = gym_super_mario_bros.make('SuperMarioBros-v0')\n",
    "# Simplify movement controls\n",
    "env = JoypadSpace(env, SIMPLE_MOVEMENT)\n",
    "# Grayscale the env\n",
    "env = GrayScaleObservation(env, keep_dim=True)\n",
    "# Wrap inside the dummy env\n",
    "env = DummyVecEnv([lambda: env])\n",
    "# Stack the frames\n",
    "# Find how many frames to take in as you desire that works best\n",
    "env = VecFrameStack(env, 4, channels_order='last')"
   ]
  },
  {
   "cell_type": "code",
   "execution_count": null,
   "id": "2f387b2c",
   "metadata": {},
   "outputs": [],
   "source": [
    "# state = env.reset()\n",
    "# plt.imshow(state)"
   ]
  },
  {
   "cell_type": "code",
   "execution_count": null,
   "id": "4f7e2119",
   "metadata": {},
   "outputs": [],
   "source": [
    "env.reset()"
   ]
  },
  {
   "cell_type": "code",
   "execution_count": null,
   "id": "d89c415a",
   "metadata": {},
   "outputs": [],
   "source": [
    "state, reward, done, info = env.step([5])"
   ]
  },
  {
   "cell_type": "code",
   "execution_count": null,
   "id": "87a5cca3",
   "metadata": {},
   "outputs": [],
   "source": [
    "#plt.figure(figsize=(20,16))\n",
    "#for idx in range(state.shape[3]):\n",
    " #   plt.subplot(1,4,idx+1)\n",
    " #   plt.imshow(state[0][:,:,idx])\n",
    "#plt.show()"
   ]
  },
  {
   "cell_type": "markdown",
   "id": "984e2793",
   "metadata": {},
   "source": [
    "# 3. Train the RL Model"
   ]
  },
  {
   "cell_type": "code",
   "execution_count": null,
   "id": "4a16cb18",
   "metadata": {},
   "outputs": [],
   "source": [
    "# AREA: Agent, Reward, Environment, Action\n",
    "# PPO: Proximal Policy Optimization\n",
    "# OS for file path management\n",
    "import os\n",
    "# PPO classifier\n",
    "from stable_baselines3 import PPO\n",
    "# Base Callback for saving models\n",
    "from stable_baselines3.common.callbacks import BaseCallback"
   ]
  },
  {
   "cell_type": "code",
   "execution_count": null,
   "id": "b38e8140",
   "metadata": {},
   "outputs": [],
   "source": [
    "# Save our model every x number of steps\n",
    "class TrainAndLoggingCallback(BaseCallback):\n",
    "    \n",
    "    def __init__(self, check_freq, save_path, verbose=1):\n",
    "        super(TrainAndLoggingCallback, self).__init__(verbose)\n",
    "        self.check_freq = check_freq\n",
    "        self.save_path = save_path\n",
    "        \n",
    "    def _init_callback(self):\n",
    "        if self.save_path is not None:\n",
    "            os.makedirs(self.save_path, exist_ok=True)\n",
    "            \n",
    "    def _on_step(self):\n",
    "        if self.n_calls % self.check_freq == 0:\n",
    "            model_path = os.path.join(self.save_path, 'best_model_{}'.format(self.n_calls))\n",
    "            self.model.save(model_path)\n",
    "            \n",
    "        return True"
   ]
  },
  {
   "cell_type": "code",
   "execution_count": null,
   "id": "62ecbf8a",
   "metadata": {},
   "outputs": [],
   "source": [
    "CHECKPOINT_DIR = './train/'\n",
    "LOG_DIR = './logs/'"
   ]
  },
  {
   "cell_type": "code",
   "execution_count": null,
   "id": "6900d2bb",
   "metadata": {},
   "outputs": [],
   "source": [
    "callback = TrainAndLoggingCallback(check_freq=500000, save_path=CHECKPOINT_DIR)"
   ]
  },
  {
   "cell_type": "code",
   "execution_count": null,
   "id": "c41b71bd",
   "metadata": {},
   "outputs": [],
   "source": [
    "# RL requires a policy network (such as the CNN that is the brain of the AI)\n",
    "# CnnPolicy is fast at processing images, which fits our use case\n",
    "model = PPO('CnnPolicy', env, verbose=1, tensorboard_log=LOG_DIR, learning_rate=0.000001, n_steps=512)"
   ]
  },
  {
   "cell_type": "code",
   "execution_count": null,
   "id": "b6ad3be6",
   "metadata": {},
   "outputs": [],
   "source": [
    "# Train the model\n",
    "# Every single game gets a million frames\n",
    "#model.learn(total_timesteps=4000000, callback=callback)"
   ]
  },
  {
   "cell_type": "code",
   "execution_count": null,
   "id": "ea2837bc",
   "metadata": {},
   "outputs": [],
   "source": [
    "# No callback: model.save('name_of_file')\n",
    "# To view the logs on tensorboard\n",
    "# Activate the env on this dir and go into log dir (go into most recent ppo model)\n",
    "#tensorboard --logdir=."
   ]
  },
  {
   "cell_type": "markdown",
   "id": "43d86367",
   "metadata": {},
   "source": [
    "# 4. Test the Model"
   ]
  },
  {
   "cell_type": "code",
   "execution_count": null,
   "id": "7479133b",
   "metadata": {},
   "outputs": [],
   "source": [
    "# Load the model\n",
    "model = PPO.load('./train/best_model_1500000', env=env)"
   ]
  },
  {
   "cell_type": "code",
   "execution_count": null,
   "id": "1f58dc66",
   "metadata": {},
   "outputs": [],
   "source": [
    "# Continue training the model\n",
    "model.learn(total_timesteps=10000000, callback=callback)"
   ]
  },
  {
   "cell_type": "code",
   "execution_count": null,
   "id": "dd54027c",
   "metadata": {},
   "outputs": [],
   "source": [
    "state = env.reset()\n",
    "\n",
    "while True:\n",
    "    action, _ = model.predict(state)\n",
    "    state, reward, done, info = env.step(action)\n",
    "    env.render()"
   ]
  },
  {
   "cell_type": "code",
   "execution_count": null,
   "id": "b2d0899b",
   "metadata": {},
   "outputs": [],
   "source": [
    "env.close()"
   ]
  }
 ],
 "metadata": {
  "kernelspec": {
   "display_name": "Python 3 (ipykernel)",
   "language": "python",
   "name": "python3"
  },
  "language_info": {
   "codemirror_mode": {
    "name": "ipython",
    "version": 3
   },
   "file_extension": ".py",
   "mimetype": "text/x-python",
   "name": "python",
   "nbconvert_exporter": "python",
   "pygments_lexer": "ipython3",
   "version": "3.10.9"
  }
 },
 "nbformat": 4,
 "nbformat_minor": 5
}
